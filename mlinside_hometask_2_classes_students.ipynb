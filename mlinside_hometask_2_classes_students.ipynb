{
  "cells": [
    {
      "cell_type": "markdown",
      "metadata": {
        "id": "view-in-github",
        "colab_type": "text"
      },
      "source": [
        "<a href=\"https://colab.research.google.com/github/evtectica/Artificial_Intelligence/blob/master/mlinside_hometask_2_classes_students.ipynb\" target=\"_parent\"><img src=\"https://colab.research.google.com/assets/colab-badge.svg\" alt=\"Open In Colab\"/></a>"
      ]
    },
    {
      "cell_type": "markdown",
      "source": [
        "## **Ml_Inside. Hometask 2**"
      ],
      "metadata": {
        "id": "nghh9rmWq8kf"
      },
      "id": "nghh9rmWq8kf"
    },
    {
      "cell_type": "markdown",
      "id": "d81a08a9",
      "metadata": {
        "id": "d81a08a9"
      },
      "source": [
        "# Сложность алгоритмов. Рекурсия VS Циклы"
      ]
    },
    {
      "cell_type": "markdown",
      "id": "f84abb2a",
      "metadata": {
        "id": "f84abb2a"
      },
      "source": [
        "## Теория"
      ]
    },
    {
      "cell_type": "markdown",
      "id": "81e143ab",
      "metadata": {
        "id": "81e143ab"
      },
      "source": [
        "Измерение сложности алгоритма обычно включает в себя анализ его временной сложности (по количеству операций) и пространственной сложности (по занимаемой памяти). Обозначается сложность нотацией следующего вида: O(1), O(n), O(n^2) и так далее\n",
        "\n",
        "Вот основные шаги и методы для этого:\n",
        "\n",
        "### 1. **Анализ временной сложности (Time Complexity)**\n",
        "Это измерение количества операций, которые алгоритм выполняет в зависимости от размера входных данных.\n",
        "\n",
        "#### Шаги:\n",
        "1. **Определите базовые операции**: Определите ключевые операции, которые выполняются в алгоритме, такие как сравнения, присваивания, арифметические операции и т.д.\n",
        "2. **Подсчитайте количество операций**: Проанализируйте, сколько раз каждая базовая операция выполняется в зависимости от входных данных.\n",
        "3. **Выразите количество операций в виде функции от размера входных данных (n)**: Например, если количество операций удваивается при удвоении размера входных данных, это может быть O(n), O(n^2), O(log n) и т.д.\n",
        "4. **Исключите константы и менее значимые члены**: При анализе асимптотической сложности константы и менее значимые члены игнорируются. Например, если функция сложности составляет 3n^2 + 2n + 5, то она упрощается до O(n^2).\n",
        "\n",
        "### 2. **Анализ пространственной сложности (Space Complexity)**\n",
        "Это измерение объема памяти, который алгоритм использует в зависимости от размера входных данных.\n",
        "\n",
        "#### Шаги:\n",
        "1. **Определите переменные**: Подсчитайте количество переменных, которые используются алгоритмом.\n",
        "2. **Проанализируйте структуры данных**: Определите, сколько памяти занимают используемые структуры данных (массивы, списки, деревья и т.д.).\n",
        "3. **Выразите объем используемой памяти в виде функции от размера входных данных (n)**.\n",
        "\n",
        "### Примеры:\n",
        "\n",
        "#### Пример 1: Линейный поиск\n",
        "```python\n",
        "def linear_search(arr, target):\n",
        "    for i in range(len(arr)):\n",
        "        if arr[i] == target:\n",
        "            return i\n",
        "    return -1\n",
        "```\n",
        "- **Временная сложность**: В худшем случае алгоритм проходит через все элементы массива, что дает O(n).\n",
        "- **Пространственная сложность**: Алгоритм использует фиксированное количество дополнительной памяти (несколько переменных), что дает O(1).\n",
        "\n",
        "#### Пример 2: Сортировка пузырьком\n",
        "```python\n",
        "def bubble_sort(arr):\n",
        "    n = len(arr)\n",
        "    for i in range(n):\n",
        "        for j in range(0, n-i-1):\n",
        "            if arr[j] > arr[j+1]:\n",
        "                arr[j], arr[j+1] = arr[j+1], arr[j]\n",
        "```\n",
        "- **Временная сложность**: В худшем случае алгоритм выполняет n*(n-1)/2 сравнений и обменов, что дает O(n^2).\n",
        "- **Пространственная сложность**: Алгоритм использует фиксированное количество дополнительной памяти, что дает O(1).\n",
        "\n",
        "### Полезные советы:\n",
        "- **Анализируйте циклы**: Вложенные циклы часто указывают на квадратичную сложность (O(n^2)), а одинарные циклы — на линейную (O(n)).\n",
        "- **Рекурсия**: При анализе рекурсивных алгоритмов используйте рекуррентные уравнения для определения сложности.\n",
        "- **Итерации и деление**: Логарифмическая сложность (O(log n)) часто возникает в алгоритмах, где размер задачи уменьшается вдвое на каждом шаге (например, бинарный поиск)."
      ]
    },
    {
      "cell_type": "markdown",
      "id": "600a00a4",
      "metadata": {
        "id": "600a00a4"
      },
      "source": [
        "https://tproger.ru/articles/computational-complexity-explained?ysclid=m16atfutvl901476117"
      ]
    },
    {
      "cell_type": "markdown",
      "id": "2e21b59d",
      "metadata": {
        "execution": {
          "iopub.execute_input": "2024-09-17T10:37:16.251865Z",
          "iopub.status.busy": "2024-09-17T10:37:16.251489Z",
          "iopub.status.idle": "2024-09-17T10:37:16.256147Z",
          "shell.execute_reply": "2024-09-17T10:37:16.255446Z",
          "shell.execute_reply.started": "2024-09-17T10:37:16.251836Z"
        },
        "id": "2e21b59d"
      },
      "source": [
        "https://itresume.ru/blog/algorithms-complexity"
      ]
    },
    {
      "cell_type": "markdown",
      "id": "fbfc7f28",
      "metadata": {
        "execution": {
          "iopub.execute_input": "2024-09-17T11:09:46.117946Z",
          "iopub.status.busy": "2024-09-17T11:09:46.117473Z",
          "iopub.status.idle": "2024-09-17T11:09:46.136508Z",
          "shell.execute_reply": "2024-09-17T11:09:46.135344Z",
          "shell.execute_reply.started": "2024-09-17T11:09:46.117906Z"
        },
        "id": "fbfc7f28"
      },
      "source": [
        "Рекурсия и циклы — это два основных способа выполнения повторяющихся операций в программировании, и каждый из них имеет свои преимущества и недостатки.\n",
        "\n",
        "### Циклы\n",
        "Циклы (for, while) часто используются для выполнения повторяющихся задач. Они обычно проще для понимания и отладки, особенно для начинающих программистов. Основные характеристики циклов:\n",
        "\n",
        "1. **Простота**: Циклы легко понять и реализовать.\n",
        "2. **Производительность**: В большинстве случаев циклы выполняются быстрее, так как они не требуют дополнительных вызовов функций.\n",
        "3. **Использование памяти**: Циклы не требуют дополнительной памяти для хранения состояния выполнения, в отличие от рекурсии.\n",
        "\n",
        "Пример цикла для вычисления факториала числа:\n",
        "```python\n",
        "def factorial(n):\n",
        "    result = 1\n",
        "    for i in range(1, n + 1):\n",
        "        result *= i\n",
        "    return result\n",
        "```\n",
        "\n",
        "### Рекурсия\n",
        "Рекурсия — это метод, при котором функция вызывает сама себя. Это полезно для задач, которые можно разбить на подзадачи, аналогичные основной задаче. Основные характеристики рекурсии:\n",
        "\n",
        "1. **Читаемость**: Рекурсивные решения могут быть более элегантными и проще для понимания, особенно для задач, которые естественно рекурсивны (например, обход дерева).\n",
        "2. **Производительность**: Рекурсия может быть менее эффективной из-за накладных расходов на вызовы функций и увеличенного использования памяти (стек вызовов).\n",
        "3. **Риск переполнения стека**: Глубокая рекурсия может привести к переполнению стека, что вызывает ошибку (Stack Overflow).\n",
        "\n",
        "Пример рекурсии для вычисления факториала числа:\n",
        "```python\n",
        "def factorial(n):\n",
        "    if n == 0:\n",
        "        return 1\n",
        "    else:\n",
        "        return n * factorial(n - 1)\n",
        "```\n",
        "\n",
        "Пример естественно рекурсивной задачи - быстрый поиск\n",
        "```python\n",
        "def quicksort(arr):\n",
        "    if len(arr) <= 1:\n",
        "        return arr\n",
        "    pivot = arr[len(arr) // 2]\n",
        "    left = [x for x in arr if x < pivot]\n",
        "    middle = [x for x in arr if x == pivot]\n",
        "    right = [x for x in arr if x > pivot]\n",
        "    return quicksort(left) + middle + quicksort(right)\n",
        "```\n",
        "\n",
        "### Сравнение сложности\n",
        "- **Временная сложность**: В большинстве случаев временная сложность рекурсивного и циклического подходов будет одинаковой, если они решают одну и ту же задачу. Например, обе версии вычисления факториала имеют временную сложность O(n).\n",
        "- **Пространственная сложность**: Рекурсивные алгоритмы могут иметь большую пространственную сложность из-за использования стека вызовов. Например, для вычисления факториала рекурсивная версия будет иметь пространственную сложность O(n) из-за глубины рекурсии, тогда как циклическая версия имеет O(1).\n",
        "\n",
        "### Заключение\n",
        "Выбор между рекурсией и циклами зависит от конкретной задачи и контекста.\n",
        "- Циклы могут быть предпочтительны для задач, требующих высокой производительности и минимального использования памяти.\n",
        "- Рекурсия может быть более подходящей для задач, которые естественно рекурсивны и где читаемость кода важнее производительности."
      ]
    },
    {
      "cell_type": "markdown",
      "id": "155469d7",
      "metadata": {
        "id": "155469d7"
      },
      "source": [
        "## Задачи"
      ]
    },
    {
      "cell_type": "markdown",
      "id": "a3d93164",
      "metadata": {
        "id": "a3d93164"
      },
      "source": [
        "Оцените сложность следующих алгоритмов по времени и по памяти"
      ]
    },
    {
      "cell_type": "markdown",
      "id": "1f3daa99",
      "metadata": {
        "id": "1f3daa99"
      },
      "source": [
        "### Easy"
      ]
    },
    {
      "cell_type": "code",
      "execution_count": null,
      "id": "e0b8d169",
      "metadata": {
        "execution": {
          "iopub.execute_input": "2024-09-17T10:45:51.093296Z",
          "iopub.status.busy": "2024-09-17T10:45:51.092934Z",
          "iopub.status.idle": "2024-09-17T10:45:51.097211Z",
          "shell.execute_reply": "2024-09-17T10:45:51.096681Z",
          "shell.execute_reply.started": "2024-09-17T10:45:51.093268Z"
        },
        "id": "e0b8d169"
      },
      "outputs": [],
      "source": [
        "def find_first_number_position(num_to_find, numbers_list):\n",
        "    for pos, num in enumerate(numbers_list):\n",
        "        if num == num_to_find:\n",
        "            return pos"
      ]
    },
    {
      "cell_type": "code",
      "execution_count": null,
      "id": "820dd953",
      "metadata": {
        "id": "820dd953"
      },
      "outputs": [],
      "source": [
        "# Ответ:"
      ]
    },
    {
      "cell_type": "code",
      "execution_count": null,
      "id": "77c40e0d",
      "metadata": {
        "execution": {
          "iopub.execute_input": "2024-09-17T10:41:53.662365Z",
          "iopub.status.busy": "2024-09-17T10:41:53.662017Z",
          "iopub.status.idle": "2024-09-17T10:41:53.666674Z",
          "shell.execute_reply": "2024-09-17T10:41:53.666134Z",
          "shell.execute_reply.started": "2024-09-17T10:41:53.662335Z"
        },
        "id": "77c40e0d"
      },
      "outputs": [],
      "source": [
        "def find_number_position(num_to_find, numbers_list):\n",
        "    positions = list()\n",
        "    for pos, num in enumerate(numbers_list):\n",
        "        if num == num_to_find:\n",
        "            positions.append(pos)\n",
        "\n",
        "    return positions"
      ]
    },
    {
      "cell_type": "code",
      "execution_count": null,
      "id": "ebdbc742",
      "metadata": {
        "id": "ebdbc742"
      },
      "outputs": [],
      "source": [
        "# Ответ:"
      ]
    },
    {
      "cell_type": "markdown",
      "id": "5287983b",
      "metadata": {
        "id": "5287983b"
      },
      "source": [
        "### Medium"
      ]
    },
    {
      "cell_type": "code",
      "execution_count": null,
      "id": "d1a381d3",
      "metadata": {
        "execution": {
          "iopub.execute_input": "2024-09-17T10:54:22.421409Z",
          "iopub.status.busy": "2024-09-17T10:54:22.421037Z",
          "iopub.status.idle": "2024-09-17T10:54:22.427080Z",
          "shell.execute_reply": "2024-09-17T10:54:22.426333Z",
          "shell.execute_reply.started": "2024-09-17T10:54:22.421379Z"
        },
        "id": "d1a381d3"
      },
      "outputs": [],
      "source": [
        "def find_max_sequance_length(num_in_sequance, numbers_list):\n",
        "    max_length = 0\n",
        "    cur_length = 0\n",
        "    for num in numbers_list:\n",
        "        if num == num_in_sequance:\n",
        "            cur_length += 1\n",
        "            max_length = max(max_length, cur_length)\n",
        "        else:\n",
        "            cur_length = 0\n",
        "\n",
        "    return max_length"
      ]
    },
    {
      "cell_type": "code",
      "execution_count": null,
      "id": "1f7c33d3",
      "metadata": {
        "id": "1f7c33d3"
      },
      "outputs": [],
      "source": [
        "# Ответ:"
      ]
    },
    {
      "cell_type": "code",
      "execution_count": null,
      "id": "e15e78c3",
      "metadata": {
        "execution": {
          "iopub.execute_input": "2024-09-17T11:02:57.871925Z",
          "iopub.status.busy": "2024-09-17T11:02:57.871570Z",
          "iopub.status.idle": "2024-09-17T11:02:57.877132Z",
          "shell.execute_reply": "2024-09-17T11:02:57.876304Z",
          "shell.execute_reply.started": "2024-09-17T11:02:57.871896Z"
        },
        "id": "e15e78c3"
      },
      "outputs": [],
      "source": [
        "# список элементов strings_list может быть размера n\n",
        "# каждая строка из списка имеет длину n\n",
        "\n",
        "def count_letter_in_strings(target_letter, strings_list):\n",
        "    max_cnt = 0\n",
        "    cur_cnt = 0\n",
        "    for string in strings_list:\n",
        "        for letter in string:\n",
        "            if letter == target_letter:\n",
        "                cur_cnt += 1\n",
        "\n",
        "        max_cnt = max(max_cnt, cur_cnt)\n",
        "        cur_cnt = 0\n",
        "\n",
        "\n",
        "    return max_cnt"
      ]
    },
    {
      "cell_type": "code",
      "execution_count": null,
      "id": "bf19cbec",
      "metadata": {
        "execution": {
          "iopub.execute_input": "2024-09-17T11:03:34.542518Z",
          "iopub.status.busy": "2024-09-17T11:03:34.542156Z",
          "iopub.status.idle": "2024-09-17T11:03:34.547390Z",
          "shell.execute_reply": "2024-09-17T11:03:34.546756Z",
          "shell.execute_reply.started": "2024-09-17T11:03:34.542487Z"
        },
        "id": "bf19cbec",
        "outputId": "c7b3bf24-bd4a-4eeb-86a4-e0f2519f9025"
      },
      "outputs": [
        {
          "data": {
            "text/plain": [
              "3"
            ]
          },
          "execution_count": 19,
          "metadata": {},
          "output_type": "execute_result"
        }
      ],
      "source": [
        "count_letter_in_strings('l', ['llaa', 'alll', 'laal', 'aaaa'])"
      ]
    },
    {
      "cell_type": "code",
      "execution_count": null,
      "id": "d0545bc1",
      "metadata": {
        "id": "d0545bc1"
      },
      "outputs": [],
      "source": [
        "# Ответ:"
      ]
    },
    {
      "cell_type": "markdown",
      "id": "d3d36d0d",
      "metadata": {
        "id": "d3d36d0d"
      },
      "source": [
        "### Hard"
      ]
    },
    {
      "cell_type": "code",
      "execution_count": null,
      "id": "849effd6",
      "metadata": {
        "execution": {
          "iopub.execute_input": "2024-09-17T11:07:04.939265Z",
          "iopub.status.busy": "2024-09-17T11:07:04.938765Z",
          "iopub.status.idle": "2024-09-17T11:07:04.946616Z",
          "shell.execute_reply": "2024-09-17T11:07:04.945907Z",
          "shell.execute_reply.started": "2024-09-17T11:07:04.939215Z"
        },
        "id": "849effd6"
      },
      "outputs": [],
      "source": [
        "def binary_search(array, target):\n",
        "    left = 0\n",
        "    right = len(array) - 1\n",
        "\n",
        "    while left <= right:\n",
        "        mid = (left + right) // 2\n",
        "\n",
        "        if array[mid] == target:\n",
        "            return mid\n",
        "        elif array[mid] < target:\n",
        "            left = mid + 1\n",
        "        else:\n",
        "            right = mid - 1\n",
        "\n",
        "    return -1"
      ]
    },
    {
      "cell_type": "code",
      "execution_count": null,
      "id": "320e0444",
      "metadata": {
        "id": "320e0444"
      },
      "outputs": [],
      "source": [
        "# Ответ:"
      ]
    },
    {
      "cell_type": "markdown",
      "id": "3eb46f96",
      "metadata": {
        "id": "3eb46f96"
      },
      "source": [
        "# Классы"
      ]
    },
    {
      "cell_type": "markdown",
      "id": "d2d25440",
      "metadata": {
        "id": "d2d25440"
      },
      "source": [
        "## Теория"
      ]
    },
    {
      "cell_type": "markdown",
      "id": "e4a32388",
      "metadata": {
        "id": "e4a32388"
      },
      "source": [
        "Классы в Python являются основой объектно-ориентированного программирования (ООП), которое позволяет разработчикам создавать объекты, объединяющие данные и методы для их обработки. Давайте рассмотрим основные концепции классов в Python.\n",
        "\n",
        "### Определение класса\n",
        "\n",
        "Класс в Python определяется с помощью ключевого слова `class`. Вот пример простого класса:\n",
        "\n",
        "```python\n",
        "class MyClass:\n",
        "    pass\n",
        "```\n",
        "\n",
        "Этот класс называется `MyClass` и пока не содержит никаких атрибутов или методов.\n",
        "\n",
        "### Экземпляры класса\n",
        "\n",
        "Экземпляр класса создается путем вызова класса как функции:\n",
        "\n",
        "```python\n",
        "obj = MyClass()\n",
        "```\n",
        "\n",
        "### Атрибуты класса\n",
        "\n",
        "Атрибуты класса могут быть определены как на уровне класса, так и на уровне экземпляра. Атрибуты на уровне класса являются общими для всех экземпляров класса, а атрибуты на уровне экземпляра уникальны для каждого экземпляра.\n",
        "\n",
        "```python\n",
        "class MyClass:\n",
        "    class_attribute = \"I am a class attribute\"\n",
        "\n",
        "    def __init__(self, instance_attribute):\n",
        "        self.instance_attribute = instance_attribute\n",
        "\n",
        "obj1 = MyClass(\"I am an instance attribute of obj1\")\n",
        "obj2 = MyClass(\"I am an instance attribute of obj2\")\n",
        "\n",
        "print(MyClass.class_attribute)  # \"I am a class attribute\"\n",
        "print(obj1.instance_attribute)  # \"I am an instance attribute of obj1\"\n",
        "print(obj2.instance_attribute)  # \"I am an instance attribute of obj2\"\n",
        "```\n",
        "\n",
        "### Методы класса\n",
        "\n",
        "Методы класса — это функции, определенные внутри класса. Первый параметр любого метода в классе должен быть `self`, который представляет собой экземпляр класса.\n",
        "\n",
        "```python\n",
        "class MyClass:\n",
        "    def __init__(self, value):\n",
        "        self.value = value\n",
        "\n",
        "    def display(self):\n",
        "        print(f\"Value: {self.value}\")\n",
        "\n",
        "obj = MyClass(42)\n",
        "obj.display()  # \"Value: 42\"\n",
        "```\n",
        "\n",
        "### Наследование\n",
        "\n",
        "Классы в Python могут наследоваться от других классов, что позволяет создавать иерархии классов и повторно использовать код.\n",
        "\n",
        "```python\n",
        "class ParentClass:\n",
        "    def __init__(self, parent_attribute):\n",
        "        self.parent_attribute = parent_attribute\n",
        "\n",
        "    def parent_method(self):\n",
        "        print(\"This is a method in the parent class\")\n",
        "\n",
        "class ChildClass(ParentClass):\n",
        "    def __init__(self, parent_attribute, child_attribute):\n",
        "        super().__init__(parent_attribute)\n",
        "        self.child_attribute = child_attribute\n",
        "\n",
        "    def child_method(self):\n",
        "        print(\"This is a method in the child class\")\n",
        "\n",
        "child = ChildClass(\"parent value\", \"child value\")\n",
        "child.parent_method()  # \"This is a method in the parent class\"\n",
        "child.child_method()   # \"This is a method in the child class\"\n",
        "```\n",
        "\n",
        "### Инкапсуляция\n",
        "\n",
        "Инкапсуляция позволяет скрывать внутренние детали реализации класса. В Python для обозначения приватных атрибутов и методов используется соглашение об именовании с одним или двумя подчеркиваниями.\n",
        "\n",
        "```python\n",
        "class MyClass:\n",
        "    def __init__(self, value):\n",
        "        self.__private_attribute = value\n",
        "\n",
        "    def get_value(self):\n",
        "        return self.__private_attribute\n",
        "\n",
        "obj = MyClass(42)\n",
        "print(obj.get_value())  # 42\n",
        "# print(obj.__private_attribute)  # AttributeError: 'MyClass' object has no attribute '__private_attribute'\n",
        "```\n",
        "\n",
        "### Полиморфизм\n",
        "\n",
        "Полиморфизм позволяет использовать один и тот же интерфейс для разных типов данных. В контексте классов это означает, что разные классы могут иметь методы с одинаковыми именами, и эти методы могут быть вызваны через один и тот же интерфейс.\n",
        "\n",
        "```python\n",
        "class Animal:\n",
        "    def speak(self):\n",
        "        pass\n",
        "\n",
        "class Dog(Animal):\n",
        "    def speak(self):\n",
        "        return \"Woof!\"\n",
        "\n",
        "class Cat(Animal):\n",
        "    def speak(self):\n",
        "        return \"Meow!\"\n",
        "\n",
        "animals = [Dog(), Cat()]\n",
        "for animal in animals:\n",
        "    print(animal.speak())\n",
        "```\n",
        "\n",
        "Этот пример выведет:\n",
        "\n",
        "```\n",
        "Woof!\n",
        "Meow!\n",
        "```\n",
        "\n",
        "Эти основные концепции классов в Python помогут вам начать работу с объектно-ориентированным программированием. Если у вас есть дополнительные вопросы или вам нужны примеры более сложных сценариев, не стесняйтесь спрашивать!"
      ]
    },
    {
      "cell_type": "markdown",
      "id": "cf94c3aa",
      "metadata": {
        "id": "cf94c3aa"
      },
      "source": [
        "https://education.yandex.ru/handbook/python/article/obuektnaya-model-python-klassy-polya-i-metody"
      ]
    },
    {
      "cell_type": "markdown",
      "id": "570cc6d9",
      "metadata": {
        "id": "570cc6d9"
      },
      "source": [
        "https://habr.com/ru/companies/yandex_praktikum/articles/749180/"
      ]
    },
    {
      "cell_type": "markdown",
      "id": "833ae661",
      "metadata": {
        "id": "833ae661"
      },
      "source": [
        "## Задачи"
      ]
    },
    {
      "cell_type": "markdown",
      "id": "b4354c02",
      "metadata": {
        "id": "b4354c02"
      },
      "source": [
        "### Easy"
      ]
    },
    {
      "cell_type": "markdown",
      "id": "ab4d6876",
      "metadata": {
        "id": "ab4d6876"
      },
      "source": [
        "Напишите класс ``` Human ```, который будет иметь:\n",
        "- следующие атрибуты на уровне экземпляра: ```name, age, height, weight```\n",
        "- метод ```say_something```, который всегда будет возвращать одну и ту же фразу ```'Hello, world!'```\n",
        "- метод ```calculate_body_mass_index```, рассчитывающий индекс массы тела по формуле ```weight / (height ^ 2)``` и записывающий его в атрибут экземпляра ```bmi```\n",
        "- метод ```show_body_mass_index_comment```, возвращающий вердикт по индексу массы тела (на основе таблицы ниже)"
      ]
    },
    {
      "cell_type": "markdown",
      "id": "c05b5bee",
      "metadata": {
        "id": "c05b5bee"
      },
      "source": [
        "| Индекс массы тела | Соответствие между массой человека и его ростом |\n",
        "|-------------------|-------------------------------------------------|\n",
        "| 16 и менее        | Выраженный дефицит массы тела                   |\n",
        "| 16—18.5           | Недостаточная (дефицит) масса тела              |\n",
        "| 18.5—25           | Норма                                           |\n",
        "| 25—30             | Избыточная масса тела (предожирение)            |\n",
        "| 30—35             | Ожирение 1 степени                              |\n",
        "| 35—40             | Ожирение 2 степени                              |\n",
        "| 40 и более        | Ожирение 3 степени                              |"
      ]
    },
    {
      "cell_type": "code",
      "execution_count": null,
      "id": "99a3b54c",
      "metadata": {
        "execution": {
          "iopub.execute_input": "2024-09-17T13:23:50.566871Z",
          "iopub.status.busy": "2024-09-17T13:23:50.566440Z",
          "iopub.status.idle": "2024-09-17T13:23:50.570561Z",
          "shell.execute_reply": "2024-09-17T13:23:50.569807Z",
          "shell.execute_reply.started": "2024-09-17T13:23:50.566839Z"
        },
        "id": "99a3b54c"
      },
      "outputs": [],
      "source": [
        "# Ваш код здесь..."
      ]
    },
    {
      "cell_type": "code",
      "execution_count": null,
      "id": "60929a67",
      "metadata": {
        "execution": {
          "iopub.execute_input": "2024-09-17T13:49:17.916827Z",
          "iopub.status.busy": "2024-09-17T13:49:17.916324Z",
          "iopub.status.idle": "2024-09-17T13:49:17.922932Z",
          "shell.execute_reply": "2024-09-17T13:49:17.922280Z",
          "shell.execute_reply.started": "2024-09-17T13:49:17.916784Z"
        },
        "id": "60929a67"
      },
      "outputs": [],
      "source": [
        "# Если данная ячейка отработала без ошибок - значит вы все сделали правильно\n",
        "\n",
        "man_1 = Human('Dima', 23, 1.78, 67)\n",
        "assert man_1.say_something() == 'Hello, world!'\n",
        "assert man_1.name == 'Dima'\n",
        "assert man_1.age == 23\n",
        "assert man_1.height == 1.78\n",
        "assert man_1.weight == 67\n",
        "man_1.calculate_body_mass_index()\n",
        "assert round(man_1.bmi, 3) == 21.146\n",
        "assert man_1.show_body_mass_index_comment() == 'Норма'"
      ]
    },
    {
      "cell_type": "markdown",
      "id": "171bdb2b",
      "metadata": {
        "id": "171bdb2b"
      },
      "source": [
        "### Medium"
      ]
    },
    {
      "cell_type": "markdown",
      "id": "33ad2a78",
      "metadata": {
        "id": "33ad2a78"
      },
      "source": [
        "Создайте дочерний класс ```DataScientist```, отнаследовавшись от класса ```Human``` который будет иметь:\n",
        "- все те же атрибуты и методы, что и у родительского класса\n",
        "- новый атрибут ```workplace```\n",
        "- переопределите метод родительского класса ```say_something```, чтобы фраза теперь была ```'Math, math, math ...'```\n",
        "- новый метод ```calculate_simple_task```, который будет получать перемнные ```k```, ```x```, ```b``` и возвращать результат (переменную ```y```) в линейном уравнении вида ```y=k*x+b```\n",
        "- новый метод ```calculate_mse```, который будет получать перемнные ```y_true```, ```y_pred``` (массивы ```numpy.array```) и возвращать результат - поссчитанную среднеквадратичную ошибку (MSE), реализайте с помощью библиотеки ```numpy```"
      ]
    },
    {
      "cell_type": "code",
      "execution_count": null,
      "id": "4ed715c5",
      "metadata": {
        "execution": {
          "iopub.execute_input": "2024-09-17T13:49:26.038334Z",
          "iopub.status.busy": "2024-09-17T13:49:26.037996Z",
          "iopub.status.idle": "2024-09-17T13:49:26.163396Z",
          "shell.execute_reply": "2024-09-17T13:49:26.162302Z",
          "shell.execute_reply.started": "2024-09-17T13:49:26.038304Z"
        },
        "id": "4ed715c5"
      },
      "outputs": [],
      "source": [
        "import numpy as np"
      ]
    },
    {
      "cell_type": "code",
      "execution_count": null,
      "id": "e213c8cb",
      "metadata": {
        "id": "e213c8cb"
      },
      "outputs": [],
      "source": [
        "# Ваш код здесь..."
      ]
    },
    {
      "cell_type": "code",
      "execution_count": null,
      "id": "411ad844",
      "metadata": {
        "execution": {
          "iopub.execute_input": "2024-09-17T13:49:28.399815Z",
          "iopub.status.busy": "2024-09-17T13:49:28.399450Z",
          "iopub.status.idle": "2024-09-17T13:49:28.406448Z",
          "shell.execute_reply": "2024-09-17T13:49:28.405854Z",
          "shell.execute_reply.started": "2024-09-17T13:49:28.399785Z"
        },
        "id": "411ad844"
      },
      "outputs": [],
      "source": [
        "# Если данная ячейка отработала без ошибок - значит вы все сделали правильно\n",
        "\n",
        "man_2 = DataScientist('Dima', 23, 1.78, 67, 'MTS Didgital')\n",
        "assert man_2.say_something() == 'Math, math, math ...'\n",
        "assert man_2.name == 'Dima'\n",
        "assert man_2.age == 23\n",
        "assert man_2.height == 1.78\n",
        "assert man_2.weight == 67\n",
        "assert man_2.workplace == 'MTS Didgital'\n",
        "man_2.calculate_body_mass_index()\n",
        "assert round(man_2.bmi, 3) == 21.146\n",
        "assert man_2.show_body_mass_index_comment() == 'Норма'\n",
        "assert man_2.calculate_simple_task(2, 5, 1) == 11\n",
        "assert round(man_2.calculate_mse(np.array([1, 2, 3, 4, 5, 6]), np.array([6, 5, 4, 3, 2, 1]))) == 12"
      ]
    }
  ],
  "metadata": {
    "kernelspec": {
      "display_name": "python3.7-default",
      "language": "python",
      "name": "py37-default"
    },
    "language_info": {
      "codemirror_mode": {
        "name": "ipython",
        "version": 3
      },
      "file_extension": ".py",
      "mimetype": "text/x-python",
      "name": "python",
      "nbconvert_exporter": "python",
      "pygments_lexer": "ipython3",
      "version": "3.7.2"
    },
    "toc-autonumbering": true,
    "colab": {
      "provenance": [],
      "include_colab_link": true
    }
  },
  "nbformat": 4,
  "nbformat_minor": 5
}